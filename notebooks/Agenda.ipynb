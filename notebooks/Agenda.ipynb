{
 "cells": [
  {
   "cell_type": "code",
   "execution_count": 85,
   "metadata": {},
   "outputs": [
    {
     "name": "stdout",
     "output_type": "stream",
     "text": [
      "Fri Nov 18 2022 09:30:00 GMT-0600 2022-11-18 10:00:00-06:00\n"
     ]
    },
    {
     "data": {
      "text/plain": [
       "1668787200"
      ]
     },
     "execution_count": 85,
     "metadata": {},
     "output_type": "execute_result"
    }
   ],
   "source": [
    "from datetime import timezone, datetime, timedelta\n",
    "\n",
    "def convert_iso_to_timestamp(date_iso, format=\"%a %b %d %Y %H:%M:%S %Z%z\"):\n",
    "    iso_extend_str = date_iso.split(\" (\")\n",
    "    iso_extend = datetime.strptime(iso_extend_str[0], format)\n",
    "    dt_ts = datetime.fromtimestamp(iso_extend.timestamp(), tz=timezone.utc)   \n",
    "    return int(dt_ts.timestamp())\n",
    "\n",
    "# iso_extend_str = \"Fri Nov 18 2022 09:30:00 GMT-0600 (Central Standard Time)\".split(\" (\")\n",
    "# convert_iso_to_timestamp(iso_extend_str[0])\n",
    "\n",
    "def set_end(start_time, format=\"%a %b %d %Y %H:%M:%S %Z%z\", lifetime=30):\n",
    "    iso_extend = datetime.strptime(start_time, format) + timedelta(minutes=lifetime)\n",
    "    dt_ts = datetime.fromtimestamp(iso_extend.timestamp(), tz=timezone.utc)\n",
    "    return int(dt_ts.timestamp())\n",
    "\n",
    "def set_start(start_time, format=\"%a %b %d %Y %H:%M:%S %Z%z\"):\n",
    "    iso_extend = datetime.strptime(start_time, format)\n",
    "    dt_ts = datetime.fromtimestamp(iso_extend.timestamp(), tz=timezone.utc)\n",
    "    return int(dt_ts.timestamp())\n",
    "\n",
    "iso_extend_str = \"Fri Nov 18 2022 09:30:00 GMT-0600 (Central Standard Time)\".split(\" (\")  \n",
    "set_end(iso_extend_str[0])"
   ]
  },
  {
   "cell_type": "code",
   "execution_count": null,
   "metadata": {},
   "outputs": [],
   "source": [
    "\n"
   ]
  }
 ],
 "metadata": {
  "kernelspec": {
   "display_name": "Python 3.8.10 ('parserfiscal3b9dc654-LN207ihl')",
   "language": "python",
   "name": "python3"
  },
  "language_info": {
   "codemirror_mode": {
    "name": "ipython",
    "version": 3
   },
   "file_extension": ".py",
   "mimetype": "text/x-python",
   "name": "python",
   "nbconvert_exporter": "python",
   "pygments_lexer": "ipython3",
   "version": "3.8.10"
  },
  "orig_nbformat": 4,
  "vscode": {
   "interpreter": {
    "hash": "bee89c126b270495f58c7c2794694b5a8089dd3a01f5f85e037914a671f62d83"
   }
  }
 },
 "nbformat": 4,
 "nbformat_minor": 2
}
